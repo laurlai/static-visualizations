{
 "cells": [
  {
   "cell_type": "markdown",
   "metadata": {},
   "source": [
    "# Lollipop Chart Using Matplotlib\n",
    "Adapted from https://python-graph-gallery.com/184-lollipop-plot-with-2-groups/ with a couple of tweaks."
   ]
  },
  {
   "cell_type": "code",
   "execution_count": 3,
   "metadata": {},
   "outputs": [],
   "source": [
    "# Import necessary libraries\n",
    "import numpy as np\n",
    "import pandas as pd\n",
    "import matplotlib.pyplot as plt\n",
    "import seaborn as sns"
   ]
  },
  {
   "cell_type": "code",
   "execution_count": 33,
   "metadata": {},
   "outputs": [
    {
     "data": {
      "text/html": [
       "<div>\n",
       "<style scoped>\n",
       "    .dataframe tbody tr th:only-of-type {\n",
       "        vertical-align: middle;\n",
       "    }\n",
       "\n",
       "    .dataframe tbody tr th {\n",
       "        vertical-align: top;\n",
       "    }\n",
       "\n",
       "    .dataframe thead th {\n",
       "        text-align: right;\n",
       "    }\n",
       "</style>\n",
       "<table border=\"1\" class=\"dataframe\">\n",
       "  <thead>\n",
       "    <tr style=\"text-align: right;\">\n",
       "      <th></th>\n",
       "      <th>Old</th>\n",
       "      <th>New</th>\n",
       "    </tr>\n",
       "  </thead>\n",
       "  <tbody>\n",
       "    <tr>\n",
       "      <th>A</th>\n",
       "      <td>16</td>\n",
       "      <td>9</td>\n",
       "    </tr>\n",
       "    <tr>\n",
       "      <th>B</th>\n",
       "      <td>15</td>\n",
       "      <td>18</td>\n",
       "    </tr>\n",
       "    <tr>\n",
       "      <th>C</th>\n",
       "      <td>3</td>\n",
       "      <td>0</td>\n",
       "    </tr>\n",
       "    <tr>\n",
       "      <th>D</th>\n",
       "      <td>3</td>\n",
       "      <td>4</td>\n",
       "    </tr>\n",
       "    <tr>\n",
       "      <th>E</th>\n",
       "      <td>12</td>\n",
       "      <td>4</td>\n",
       "    </tr>\n",
       "  </tbody>\n",
       "</table>\n",
       "</div>"
      ],
      "text/plain": [
       "   Old  New\n",
       "A   16    9\n",
       "B   15   18\n",
       "C    3    0\n",
       "D    3    4\n",
       "E   12    4"
      ]
     },
     "execution_count": 33,
     "metadata": {},
     "output_type": "execute_result"
    }
   ],
   "source": [
    "# Generate random data\n",
    "df = pd.DataFrame(np.random.randint(0,20,size=(5,2)), columns=['Old', 'New'])\n",
    "df.index = list('ABCDE')\n",
    "df"
   ]
  },
  {
   "cell_type": "code",
   "execution_count": 43,
   "metadata": {},
   "outputs": [
    {
     "data": {
      "text/plain": [
       "Text(0,0.5,'Item')"
      ]
     },
     "execution_count": 43,
     "metadata": {},
     "output_type": "execute_result"
    },
    {
     "data": {
      "image/png": "[encoded data removed]",
      "text/plain": [
       "<Figure size 576x360 with 1 Axes>"
      ]
     },
     "metadata": {},
     "output_type": "display_data"
    }
   ],
   "source": [
    "# Set up the dataframe so it sorts the new values in descending order\n",
    "df = df.sort_values(by='New')\n",
    "df['diff'] = df['New'] - df['Old']\n",
    "\n",
    "# Calculate range for plotting\n",
    "data_range = range(1,len(df.index)+1)\n",
    "\n",
    "# Make it pretty\n",
    "sns.set_style('whitegrid')\n",
    "sns.set(font_scale=1.3)\n",
    "\n",
    "# Start drawing\n",
    "plt.figure(figsize=(8,5))\n",
    "\n",
    "# Change color of the horizontal lines depending on the difference between new and old values\n",
    "hline_colors = np.where(df['diff']>0, '#85AF31', '#BC3434')\n",
    "plt.hlines(y=data_range, xmin=df['Old'], xmax=df['New'], color=hline_colors, alpha=0.5)\n",
    "\n",
    "# Plot points\n",
    "plt.scatter(df['Old'], data_range, color=\"#9aa1a6\", alpha=0.5, label='Old', s=150)\n",
    "plt.scatter(df['New'], data_range, color=\"#1e82d4\", alpha=0.7, label='New', s=150)\n",
    "\n",
    "# Add legend\n",
    "plt.legend()\n",
    " \n",
    "# Add title and axis names\n",
    "plt.yticks(data_range, df.index)\n",
    "plt.title(\"Comparison of Values Between Items\")\n",
    "plt.xlabel('Values')\n",
    "plt.ylabel('Item')"
   ]
  }
 ],
 "metadata": {
  "kernelspec": {
   "display_name": "Python 3",
   "language": "python",
   "name": "python3"
  },
  "language_info": {
   "codemirror_mode": {
    "name": "ipython",
    "version": 3
   },
   "file_extension": ".py",
   "mimetype": "text/x-python",
   "name": "python",
   "nbconvert_exporter": "python",
   "pygments_lexer": "ipython3",
   "version": "3.6.5"
  }
 },
 "nbformat": 4,
 "nbformat_minor": 2
}
